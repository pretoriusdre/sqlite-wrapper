{
 "cells": [
  {
   "cell_type": "code",
   "execution_count": 1,
   "metadata": {},
   "outputs": [],
   "source": [
    "from sqlite_wrapper.sqlite_wrapper import SQLiteWrapper\n",
    "import pandas as pd"
   ]
  },
  {
   "cell_type": "code",
   "execution_count": 2,
   "metadata": {},
   "outputs": [],
   "source": [
    "db_wrapper = SQLiteWrapper(\"example.db\", create=True)  # Set create to False after initial setup."
   ]
  },
  {
   "cell_type": "code",
   "execution_count": 3,
   "metadata": {},
   "outputs": [
    {
     "name": "stdout",
     "output_type": "stream",
     "text": [
      "Statement executed successfully.\n",
      "Statement executed successfully.\n",
      "Statement executed successfully.\n",
      "\n",
      "Tables are:\n"
     ]
    },
    {
     "data": {
      "text/plain": [
       "['users']"
      ]
     },
     "execution_count": 3,
     "metadata": {},
     "output_type": "execute_result"
    }
   ],
   "source": [
    "delete_table_sql = \"\"\"\n",
    "DROP TABLE IF EXISTS users;\n",
    "\"\"\"\n",
    "\n",
    "# Best practice would be to define all necessary constraints and indexes first\n",
    "create_table_sql = \"\"\"\n",
    "CREATE TABLE IF NOT EXISTS users (\n",
    "    id INTEGER PRIMARY KEY,\n",
    "    name TEXT NOT NULL,\n",
    "    email TEXT NOT NULL UNIQUE\n",
    ");\n",
    "\"\"\"\n",
    "\n",
    "# This creates a non-unique index on the 'name' column.\n",
    "create_index_sql = \"\"\"\n",
    "CREATE INDEX idx_users_name ON users(name);\n",
    "\"\"\"\n",
    "db_wrapper.execute(delete_table_sql)\n",
    "db_wrapper.execute(create_table_sql)\n",
    "db_wrapper.execute(create_index_sql)\n",
    "\n",
    "tables = db_wrapper.get_all_table_names()\n",
    "print('\\nTables are:')\n",
    "tables"
   ]
  },
  {
   "cell_type": "code",
   "execution_count": 4,
   "metadata": {},
   "outputs": [
    {
     "name": "stdout",
     "output_type": "stream",
     "text": [
      "\n",
      "Current contents of users:\n"
     ]
    },
    {
     "data": {
      "text/html": [
       "<div>\n",
       "<style scoped>\n",
       "    .dataframe tbody tr th:only-of-type {\n",
       "        vertical-align: middle;\n",
       "    }\n",
       "\n",
       "    .dataframe tbody tr th {\n",
       "        vertical-align: top;\n",
       "    }\n",
       "\n",
       "    .dataframe thead th {\n",
       "        text-align: right;\n",
       "    }\n",
       "</style>\n",
       "<table border=\"1\" class=\"dataframe\">\n",
       "  <thead>\n",
       "    <tr style=\"text-align: right;\">\n",
       "      <th></th>\n",
       "      <th>id</th>\n",
       "      <th>name</th>\n",
       "      <th>email</th>\n",
       "    </tr>\n",
       "  </thead>\n",
       "  <tbody>\n",
       "  </tbody>\n",
       "</table>\n",
       "</div>"
      ],
      "text/plain": [
       "Empty DataFrame\n",
       "Columns: [id, name, email]\n",
       "Index: []"
      ]
     },
     "execution_count": 4,
     "metadata": {},
     "output_type": "execute_result"
    }
   ],
   "source": [
    "retrieved_df = db_wrapper.get_table('users')\n",
    "print('\\nCurrent contents of users:')\n",
    "retrieved_df"
   ]
  },
  {
   "cell_type": "code",
   "execution_count": 5,
   "metadata": {},
   "outputs": [
    {
     "data": {
      "text/html": [
       "<div>\n",
       "<style scoped>\n",
       "    .dataframe tbody tr th:only-of-type {\n",
       "        vertical-align: middle;\n",
       "    }\n",
       "\n",
       "    .dataframe tbody tr th {\n",
       "        vertical-align: top;\n",
       "    }\n",
       "\n",
       "    .dataframe thead th {\n",
       "        text-align: right;\n",
       "    }\n",
       "</style>\n",
       "<table border=\"1\" class=\"dataframe\">\n",
       "  <thead>\n",
       "    <tr style=\"text-align: right;\">\n",
       "      <th></th>\n",
       "      <th>id</th>\n",
       "      <th>name</th>\n",
       "      <th>email</th>\n",
       "    </tr>\n",
       "  </thead>\n",
       "  <tbody>\n",
       "    <tr>\n",
       "      <th>0</th>\n",
       "      <td>1</td>\n",
       "      <td>Alice</td>\n",
       "      <td>alice@example.com</td>\n",
       "    </tr>\n",
       "    <tr>\n",
       "      <th>1</th>\n",
       "      <td>2</td>\n",
       "      <td>Bob</td>\n",
       "      <td>bob@example.com</td>\n",
       "    </tr>\n",
       "    <tr>\n",
       "      <th>2</th>\n",
       "      <td>3</td>\n",
       "      <td>Charlie</td>\n",
       "      <td>charlie@example.com</td>\n",
       "    </tr>\n",
       "  </tbody>\n",
       "</table>\n",
       "</div>"
      ],
      "text/plain": [
       "   id     name                email\n",
       "0   1    Alice    alice@example.com\n",
       "1   2      Bob      bob@example.com\n",
       "2   3  Charlie  charlie@example.com"
      ]
     },
     "execution_count": 5,
     "metadata": {},
     "output_type": "execute_result"
    }
   ],
   "source": [
    "data_start = {\n",
    "    'id': [1, 2, 3],\n",
    "    'name': [\"Alice\", \"Bob\", \"Charlie\"],\n",
    "    'email': [\"alice@example.com\", \"bob@example.com\", \"charlie@example.com\"]\n",
    "}\n",
    "data_start = pd.DataFrame(data_start)\n",
    "data_start"
   ]
  },
  {
   "cell_type": "code",
   "execution_count": 6,
   "metadata": {},
   "outputs": [
    {
     "data": {
      "text/html": [
       "<div>\n",
       "<style scoped>\n",
       "    .dataframe tbody tr th:only-of-type {\n",
       "        vertical-align: middle;\n",
       "    }\n",
       "\n",
       "    .dataframe tbody tr th {\n",
       "        vertical-align: top;\n",
       "    }\n",
       "\n",
       "    .dataframe thead th {\n",
       "        text-align: right;\n",
       "    }\n",
       "</style>\n",
       "<table border=\"1\" class=\"dataframe\">\n",
       "  <thead>\n",
       "    <tr style=\"text-align: right;\">\n",
       "      <th></th>\n",
       "      <th>id</th>\n",
       "      <th>name</th>\n",
       "      <th>email</th>\n",
       "    </tr>\n",
       "  </thead>\n",
       "  <tbody>\n",
       "    <tr>\n",
       "      <th>0</th>\n",
       "      <td>4</td>\n",
       "      <td>Diane</td>\n",
       "      <td>diane@example.com</td>\n",
       "    </tr>\n",
       "    <tr>\n",
       "      <th>1</th>\n",
       "      <td>5</td>\n",
       "      <td>Edward</td>\n",
       "      <td>edward@example.com</td>\n",
       "    </tr>\n",
       "  </tbody>\n",
       "</table>\n",
       "</div>"
      ],
      "text/plain": [
       "   id    name               email\n",
       "0   4   Diane   diane@example.com\n",
       "1   5  Edward  edward@example.com"
      ]
     },
     "execution_count": 6,
     "metadata": {},
     "output_type": "execute_result"
    }
   ],
   "source": [
    "data_append = {\n",
    "    'id': [4, 5],\n",
    "    'name': [\"Diane\", \"Edward\"],\n",
    "    'email': [\"diane@example.com\", \"edward@example.com\"]\n",
    "}\n",
    "df_append = pd.DataFrame(data_append)\n",
    "df_append"
   ]
  },
  {
   "cell_type": "code",
   "execution_count": 7,
   "metadata": {},
   "outputs": [
    {
     "name": "stdout",
     "output_type": "stream",
     "text": [
      "\n",
      "Executing initial data load (replace)\n",
      "Data saved to table 'users' successfully.\n"
     ]
    },
    {
     "data": {
      "text/html": [
       "<div>\n",
       "<style scoped>\n",
       "    .dataframe tbody tr th:only-of-type {\n",
       "        vertical-align: middle;\n",
       "    }\n",
       "\n",
       "    .dataframe tbody tr th {\n",
       "        vertical-align: top;\n",
       "    }\n",
       "\n",
       "    .dataframe thead th {\n",
       "        text-align: right;\n",
       "    }\n",
       "</style>\n",
       "<table border=\"1\" class=\"dataframe\">\n",
       "  <thead>\n",
       "    <tr style=\"text-align: right;\">\n",
       "      <th></th>\n",
       "      <th>id</th>\n",
       "      <th>name</th>\n",
       "      <th>email</th>\n",
       "    </tr>\n",
       "  </thead>\n",
       "  <tbody>\n",
       "    <tr>\n",
       "      <th>0</th>\n",
       "      <td>1</td>\n",
       "      <td>Alice</td>\n",
       "      <td>alice@example.com</td>\n",
       "    </tr>\n",
       "    <tr>\n",
       "      <th>1</th>\n",
       "      <td>2</td>\n",
       "      <td>Bob</td>\n",
       "      <td>bob@example.com</td>\n",
       "    </tr>\n",
       "    <tr>\n",
       "      <th>2</th>\n",
       "      <td>3</td>\n",
       "      <td>Charlie</td>\n",
       "      <td>charlie@example.com</td>\n",
       "    </tr>\n",
       "  </tbody>\n",
       "</table>\n",
       "</div>"
      ],
      "text/plain": [
       "   id     name                email\n",
       "0   1    Alice    alice@example.com\n",
       "1   2      Bob      bob@example.com\n",
       "2   3  Charlie  charlie@example.com"
      ]
     },
     "execution_count": 7,
     "metadata": {},
     "output_type": "execute_result"
    }
   ],
   "source": [
    "print('\\nExecuting initial data load (replace)')\n",
    "db_wrapper.save_data(df=data_start, table_name='users', if_exists='replace')\n",
    "db_wrapper.get_table('users')"
   ]
  },
  {
   "cell_type": "code",
   "execution_count": 8,
   "metadata": {},
   "outputs": [
    {
     "name": "stdout",
     "output_type": "stream",
     "text": [
      "\n",
      "Executing additional data load (append)\n",
      "Data saved to table 'users' successfully.\n"
     ]
    },
    {
     "data": {
      "text/html": [
       "<div>\n",
       "<style scoped>\n",
       "    .dataframe tbody tr th:only-of-type {\n",
       "        vertical-align: middle;\n",
       "    }\n",
       "\n",
       "    .dataframe tbody tr th {\n",
       "        vertical-align: top;\n",
       "    }\n",
       "\n",
       "    .dataframe thead th {\n",
       "        text-align: right;\n",
       "    }\n",
       "</style>\n",
       "<table border=\"1\" class=\"dataframe\">\n",
       "  <thead>\n",
       "    <tr style=\"text-align: right;\">\n",
       "      <th></th>\n",
       "      <th>id</th>\n",
       "      <th>name</th>\n",
       "      <th>email</th>\n",
       "    </tr>\n",
       "  </thead>\n",
       "  <tbody>\n",
       "    <tr>\n",
       "      <th>0</th>\n",
       "      <td>1</td>\n",
       "      <td>Alice</td>\n",
       "      <td>alice@example.com</td>\n",
       "    </tr>\n",
       "    <tr>\n",
       "      <th>1</th>\n",
       "      <td>2</td>\n",
       "      <td>Bob</td>\n",
       "      <td>bob@example.com</td>\n",
       "    </tr>\n",
       "    <tr>\n",
       "      <th>2</th>\n",
       "      <td>3</td>\n",
       "      <td>Charlie</td>\n",
       "      <td>charlie@example.com</td>\n",
       "    </tr>\n",
       "    <tr>\n",
       "      <th>3</th>\n",
       "      <td>4</td>\n",
       "      <td>Diane</td>\n",
       "      <td>diane@example.com</td>\n",
       "    </tr>\n",
       "    <tr>\n",
       "      <th>4</th>\n",
       "      <td>5</td>\n",
       "      <td>Edward</td>\n",
       "      <td>edward@example.com</td>\n",
       "    </tr>\n",
       "  </tbody>\n",
       "</table>\n",
       "</div>"
      ],
      "text/plain": [
       "   id     name                email\n",
       "0   1    Alice    alice@example.com\n",
       "1   2      Bob      bob@example.com\n",
       "2   3  Charlie  charlie@example.com\n",
       "3   4    Diane    diane@example.com\n",
       "4   5   Edward   edward@example.com"
      ]
     },
     "execution_count": 8,
     "metadata": {},
     "output_type": "execute_result"
    }
   ],
   "source": [
    "print('\\nExecuting additional data load (append)')\n",
    "db_wrapper.save_data(df=df_append, table_name='users', if_exists='append')\n",
    "db_wrapper.get_table('users')\n"
   ]
  },
  {
   "cell_type": "code",
   "execution_count": 9,
   "metadata": {},
   "outputs": [
    {
     "data": {
      "text/html": [
       "<div>\n",
       "<style scoped>\n",
       "    .dataframe tbody tr th:only-of-type {\n",
       "        vertical-align: middle;\n",
       "    }\n",
       "\n",
       "    .dataframe tbody tr th {\n",
       "        vertical-align: top;\n",
       "    }\n",
       "\n",
       "    .dataframe thead th {\n",
       "        text-align: right;\n",
       "    }\n",
       "</style>\n",
       "<table border=\"1\" class=\"dataframe\">\n",
       "  <thead>\n",
       "    <tr style=\"text-align: right;\">\n",
       "      <th></th>\n",
       "      <th>id</th>\n",
       "      <th>name</th>\n",
       "      <th>email</th>\n",
       "    </tr>\n",
       "  </thead>\n",
       "  <tbody>\n",
       "    <tr>\n",
       "      <th>0</th>\n",
       "      <td>2</td>\n",
       "      <td>Bob - Updated</td>\n",
       "      <td>bob_new@example.com</td>\n",
       "    </tr>\n",
       "    <tr>\n",
       "      <th>1</th>\n",
       "      <td>6</td>\n",
       "      <td>Fleur - New</td>\n",
       "      <td>fleur@example.com</td>\n",
       "    </tr>\n",
       "  </tbody>\n",
       "</table>\n",
       "</div>"
      ],
      "text/plain": [
       "   id           name                email\n",
       "0   2  Bob - Updated  bob_new@example.com\n",
       "1   6    Fleur - New    fleur@example.com"
      ]
     },
     "execution_count": 9,
     "metadata": {},
     "output_type": "execute_result"
    }
   ],
   "source": [
    "data_upsert = {\n",
    "    'id': [2, 6],\n",
    "    'name': [\"Bob - Updated\", \"Fleur - New\",],\n",
    "    'email': [\"bob_new@example.com\", \"fleur@example.com\"]\n",
    "}\n",
    "df_upsert = pd.DataFrame(data_upsert)\n",
    "df_upsert"
   ]
  },
  {
   "cell_type": "code",
   "execution_count": 10,
   "metadata": {},
   "outputs": [
    {
     "name": "stdout",
     "output_type": "stream",
     "text": [
      "\n",
      "Executing additional data load (upsert)\n",
      "Data saved to table 'users' successfully.\n"
     ]
    },
    {
     "data": {
      "text/html": [
       "<div>\n",
       "<style scoped>\n",
       "    .dataframe tbody tr th:only-of-type {\n",
       "        vertical-align: middle;\n",
       "    }\n",
       "\n",
       "    .dataframe tbody tr th {\n",
       "        vertical-align: top;\n",
       "    }\n",
       "\n",
       "    .dataframe thead th {\n",
       "        text-align: right;\n",
       "    }\n",
       "</style>\n",
       "<table border=\"1\" class=\"dataframe\">\n",
       "  <thead>\n",
       "    <tr style=\"text-align: right;\">\n",
       "      <th></th>\n",
       "      <th>id</th>\n",
       "      <th>name</th>\n",
       "      <th>email</th>\n",
       "    </tr>\n",
       "  </thead>\n",
       "  <tbody>\n",
       "    <tr>\n",
       "      <th>0</th>\n",
       "      <td>1</td>\n",
       "      <td>Alice</td>\n",
       "      <td>alice@example.com</td>\n",
       "    </tr>\n",
       "    <tr>\n",
       "      <th>1</th>\n",
       "      <td>2</td>\n",
       "      <td>Bob - Updated</td>\n",
       "      <td>bob_new@example.com</td>\n",
       "    </tr>\n",
       "    <tr>\n",
       "      <th>2</th>\n",
       "      <td>3</td>\n",
       "      <td>Charlie</td>\n",
       "      <td>charlie@example.com</td>\n",
       "    </tr>\n",
       "    <tr>\n",
       "      <th>3</th>\n",
       "      <td>4</td>\n",
       "      <td>Diane</td>\n",
       "      <td>diane@example.com</td>\n",
       "    </tr>\n",
       "    <tr>\n",
       "      <th>4</th>\n",
       "      <td>5</td>\n",
       "      <td>Edward</td>\n",
       "      <td>edward@example.com</td>\n",
       "    </tr>\n",
       "    <tr>\n",
       "      <th>5</th>\n",
       "      <td>6</td>\n",
       "      <td>Fleur - New</td>\n",
       "      <td>fleur@example.com</td>\n",
       "    </tr>\n",
       "  </tbody>\n",
       "</table>\n",
       "</div>"
      ],
      "text/plain": [
       "   id           name                email\n",
       "0   1          Alice    alice@example.com\n",
       "1   2  Bob - Updated  bob_new@example.com\n",
       "2   3        Charlie  charlie@example.com\n",
       "3   4          Diane    diane@example.com\n",
       "4   5         Edward   edward@example.com\n",
       "5   6    Fleur - New    fleur@example.com"
      ]
     },
     "execution_count": 10,
     "metadata": {},
     "output_type": "execute_result"
    }
   ],
   "source": [
    "print('\\nExecuting additional data load (upsert)')\n",
    "db_wrapper.save_data(df=df_upsert, table_name='users', if_exists='upsert', unique_key='id')\n",
    "db_wrapper.get_table('users')\n"
   ]
  },
  {
   "cell_type": "code",
   "execution_count": 11,
   "metadata": {},
   "outputs": [
    {
     "name": "stdout",
     "output_type": "stream",
     "text": [
      "\n",
      "Getting the data and recreating the table definition with UUID id column\n",
      "Statement executed successfully.\n",
      "Statement executed successfully.\n",
      "\n",
      "Executing reload of data with uuid id column\n",
      "Data saved to table 'users' successfully.\n"
     ]
    },
    {
     "data": {
      "text/html": [
       "<div>\n",
       "<style scoped>\n",
       "    .dataframe tbody tr th:only-of-type {\n",
       "        vertical-align: middle;\n",
       "    }\n",
       "\n",
       "    .dataframe tbody tr th {\n",
       "        vertical-align: top;\n",
       "    }\n",
       "\n",
       "    .dataframe thead th {\n",
       "        text-align: right;\n",
       "    }\n",
       "</style>\n",
       "<table border=\"1\" class=\"dataframe\">\n",
       "  <thead>\n",
       "    <tr style=\"text-align: right;\">\n",
       "      <th></th>\n",
       "      <th>id</th>\n",
       "      <th>name</th>\n",
       "      <th>email</th>\n",
       "    </tr>\n",
       "  </thead>\n",
       "  <tbody>\n",
       "    <tr>\n",
       "      <th>0</th>\n",
       "      <td>0190d8e3-f423-00d1-38bc-dcf44cd13bbf</td>\n",
       "      <td>Alice</td>\n",
       "      <td>alice@example.com</td>\n",
       "    </tr>\n",
       "    <tr>\n",
       "      <th>1</th>\n",
       "      <td>0190d8e3-f423-00d1-38bc-dcf5f53ca530</td>\n",
       "      <td>Bob - Updated</td>\n",
       "      <td>bob_new@example.com</td>\n",
       "    </tr>\n",
       "    <tr>\n",
       "      <th>2</th>\n",
       "      <td>0190d8e3-f423-00d1-38bc-dcf6cc09c9b3</td>\n",
       "      <td>Charlie</td>\n",
       "      <td>charlie@example.com</td>\n",
       "    </tr>\n",
       "    <tr>\n",
       "      <th>3</th>\n",
       "      <td>0190d8e3-f423-00d1-38bc-dcf7f5cfe8b0</td>\n",
       "      <td>Diane</td>\n",
       "      <td>diane@example.com</td>\n",
       "    </tr>\n",
       "    <tr>\n",
       "      <th>4</th>\n",
       "      <td>0190d8e3-f423-00d1-38bc-dcf864e3992f</td>\n",
       "      <td>Edward</td>\n",
       "      <td>edward@example.com</td>\n",
       "    </tr>\n",
       "    <tr>\n",
       "      <th>5</th>\n",
       "      <td>0190d8e3-f423-00d1-38bc-dcf94a329d51</td>\n",
       "      <td>Fleur - New</td>\n",
       "      <td>fleur@example.com</td>\n",
       "    </tr>\n",
       "  </tbody>\n",
       "</table>\n",
       "</div>"
      ],
      "text/plain": [
       "                                     id           name                email\n",
       "0  0190d8e3-f423-00d1-38bc-dcf44cd13bbf          Alice    alice@example.com\n",
       "1  0190d8e3-f423-00d1-38bc-dcf5f53ca530  Bob - Updated  bob_new@example.com\n",
       "2  0190d8e3-f423-00d1-38bc-dcf6cc09c9b3        Charlie  charlie@example.com\n",
       "3  0190d8e3-f423-00d1-38bc-dcf7f5cfe8b0          Diane    diane@example.com\n",
       "4  0190d8e3-f423-00d1-38bc-dcf864e3992f         Edward   edward@example.com\n",
       "5  0190d8e3-f423-00d1-38bc-dcf94a329d51    Fleur - New    fleur@example.com"
      ]
     },
     "execution_count": 11,
     "metadata": {},
     "output_type": "execute_result"
    }
   ],
   "source": [
    "print('\\nGetting the data and recreating the table definition with UUID id column')\n",
    "df_users = db_wrapper.get_table('users')\n",
    "df_users = df_users.drop(columns={'id'})\n",
    "\n",
    "delete_table_sql = \"\"\"\n",
    "DROP TABLE IF EXISTS users;\n",
    "\"\"\"\n",
    "\n",
    "create_table_sql = \"\"\"\n",
    "CREATE TABLE IF NOT EXISTS users (\n",
    "    id TEXT PRIMARY KEY, -- Store UUID as id\n",
    "    name TEXT NOT NULL,\n",
    "    email TEXT NOT NULL UNIQUE\n",
    ");\n",
    "\"\"\"\n",
    "db_wrapper.execute(delete_table_sql)\n",
    "db_wrapper.execute(create_table_sql)\n",
    "\n",
    "print('\\nExecuting reload of data with uuid id column')\n",
    "db_wrapper.save_data(\n",
    "    df=df_users,\n",
    "    table_name='users',\n",
    "    if_exists='replace',\n",
    "    auto_create=True,\n",
    "    auto_add_id=True\n",
    "    )\n",
    "\n",
    "db_wrapper.get_table('users')"
   ]
  },
  {
   "cell_type": "code",
   "execution_count": 12,
   "metadata": {},
   "outputs": [
    {
     "name": "stdout",
     "output_type": "stream",
     "text": [
      "Database wiped successfully.\n",
      "Tables are:\n"
     ]
    },
    {
     "data": {
      "text/plain": [
       "[]"
      ]
     },
     "execution_count": 12,
     "metadata": {},
     "output_type": "execute_result"
    }
   ],
   "source": [
    "db_wrapper.flush()\n",
    "print('Tables are:')\n",
    "db_wrapper.get_all_table_names()"
   ]
  }
 ],
 "metadata": {
  "kernelspec": {
   "display_name": "base",
   "language": "python",
   "name": "python3"
  },
  "language_info": {
   "codemirror_mode": {
    "name": "ipython",
    "version": 3
   },
   "file_extension": ".py",
   "mimetype": "text/x-python",
   "name": "python",
   "nbconvert_exporter": "python",
   "pygments_lexer": "ipython3",
   "version": "3.12.6"
  }
 },
 "nbformat": 4,
 "nbformat_minor": 2
}
